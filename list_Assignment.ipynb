{
 "cells": [
  {
   "cell_type": "markdown",
   "metadata": {},
   "source": [
    "# Module 3: Data Structures Assignments\n",
    "## Lesson 3.1: Lists\n",
    "### Assignment 1: Creating and Accessing Lists\n",
    "\n",
    "Create a list of the first 20 positive integers. Print the list.\n",
    "\n",
    "### Assignment 2: Accessing List Elements\n",
    "\n",
    "Print the first, middle, and last elements of the list created in Assignment 1.\n",
    "\n",
    "### Assignment 3: List Slicing\n",
    "\n",
    "Print the first five elements, the last five elements, and the elements from index 5 to 15 of the list created in Assignment 1.\n",
    "\n",
    "### Assignment 4: List Comprehensions\n",
    "\n",
    "Create a new list containing the squares of the first 10 positive integers using a list comprehension. Print the new list.\n",
    "\n",
    "### Assignment 5: Filtering Lists\n",
    "\n",
    "Create a new list containing only the even numbers from the list created in Assignment 1 using a list comprehension. Print the new list.\n",
    "\n",
    "### Assignment 6: List Methods\n",
    "\n",
    "Create a list of random numbers and sort it in ascending and descending order. Remove the duplicates from the list and print the modified list.\n",
    "\n",
    "### Assignment 7: Nested Lists\n",
    "\n",
    "Create a nested list representing a 3x3 matrix and print the matrix. Access and print the element at the second row and third column.\n",
    "\n",
    "### Assignment 8: List of Dictionaries\n",
    "\n",
    "Create a list of dictionaries where each dictionary represents a student with keys 'name' and 'score'. Sort the list of dictionaries by the 'score' in descending order and print the sorted list.\n",
    "\n",
    "### Assignment 9: Matrix Transposition\n",
    "\n",
    "Write a function that takes a 3x3 matrix (nested list) as input and returns its transpose. Print the original and transposed matrices.\n",
    "\n",
    "### Assignment 10: Flattening a Nested List\n",
    "\n",
    "Write a function that takes a nested list and flattens it into a single list. Print the original and flattened lists.\n",
    "\n",
    "### Assignment 11: List Manipulation\n",
    "\n",
    "Create a list of the first 10 positive integers. Remove the elements at indices 2, 4, and 6, and insert the element '99' at index 5. Print the modified list.\n",
    "\n",
    "### Assignment 12: List Zipping\n",
    "\n",
    "Create two lists of the same length. Use the `zip` function to combine these lists into a list of tuples and print the result.\n",
    "\n",
    "### Assignment 13: List Reversal\n",
    "\n",
    "Write a function that takes a list and returns a new list with the elements in reverse order. Print the original and reversed lists.\n",
    "\n",
    "### Assignment 14: List Rotation\n",
    "\n",
    "Write a function that rotates a list by n positions. Print the original and rotated lists.\n",
    "\n",
    "### Assignment 15: List Intersection\n",
    "\n",
    "Write a function that takes two lists and returns a new list containing only the elements that are present in both lists. Print the intersected list."
   ]
  },
  {
   "cell_type": "code",
   "execution_count": 1,
   "metadata": {},
   "outputs": [
    {
     "name": "stdout",
     "output_type": "stream",
     "text": [
      "[1, 2, 3, 4, 5, 6, 7, 8, 9, 10, 11, 12, 13, 14, 15, 16, 17, 18, 19, 20]\n"
     ]
    }
   ],
   "source": [
    "# Assignment Question 1 \n",
    "\n",
    "l = [x for x in range(1,21)]\n",
    "print(l)"
   ]
  },
  {
   "cell_type": "code",
   "execution_count": 3,
   "id": "2a405e08",
   "metadata": {},
   "outputs": [
    {
     "name": "stdout",
     "output_type": "stream",
     "text": [
      "First Element 1\n",
      "Middle Element 11\n",
      "Last Element 20\n"
     ]
    }
   ],
   "source": [
    "# Assignment Question 2\n",
    "\n",
    "print(\"First Element\",l[0])\n",
    "print(\"Middle Element\",l[len(l) // 2])\n",
    "print(\"Last Element\",l[-1])"
   ]
  },
  {
   "cell_type": "code",
   "execution_count": 7,
   "id": "e795ba1d",
   "metadata": {},
   "outputs": [
    {
     "name": "stdout",
     "output_type": "stream",
     "text": [
      "[1, 2, 3, 4, 5]\n",
      "[16, 17, 18, 19, 20]\n",
      "[6, 7, 8, 9, 10, 11, 12, 13, 14, 15, 16]\n"
     ]
    }
   ],
   "source": [
    "# Assignment Question 3\n",
    "\n",
    "print(l[:5])\n",
    "print(l[-5:])\n",
    "print(l[5:16])"
   ]
  },
  {
   "cell_type": "code",
   "execution_count": 8,
   "id": "4f4c668f",
   "metadata": {},
   "outputs": [],
   "source": [
    "# Assignment Question 4\n",
    "\n",
    "lst = [x for x in range(1,11)]"
   ]
  },
  {
   "cell_type": "code",
   "execution_count": 14,
   "id": "5a21b54d",
   "metadata": {},
   "outputs": [
    {
     "data": {
      "text/plain": [
       "[2, 4, 6, 8, 10, 12, 14, 16, 18, 20]"
      ]
     },
     "execution_count": 14,
     "metadata": {},
     "output_type": "execute_result"
    }
   ],
   "source": [
    "# Assignment Question 5\n",
    "\n",
    "even_lst = [x for x in l if(x % 2 == 0)]\n",
    "even_lst"
   ]
  },
  {
   "cell_type": "code",
   "execution_count": 16,
   "id": "de8a9d4a",
   "metadata": {},
   "outputs": [
    {
     "name": "stdout",
     "output_type": "stream",
     "text": [
      "Original List:  [2, 6, 7, 9, 0, 1, 55, 1, 34, 54, 55, 87]\n",
      "List after unique values:  [0, 1, 2, 34, 6, 7, 9, 54, 55, 87]\n",
      "List in ascending order [0, 1, 2, 6, 7, 9, 34, 54, 55, 87]\n",
      "List in descending order [87, 55, 54, 34, 9, 7, 6, 2, 1, 0]\n"
     ]
    }
   ],
   "source": [
    "# Assignment Question 6\n",
    "\n",
    "random_lst = [2,6,7,9,0,1,55,1,34,54,55,87]\n",
    "print(\"Original List: \",random_lst)\n",
    "\n",
    "random_lst = list(set(random_lst)) # To remove duplicate values\n",
    "print(\"List after unique values: \",random_lst)\n",
    "\n",
    "asc_lst = sorted(random_lst)\n",
    "print(\"List in ascending order\", asc_lst)\n",
    "\n",
    "desc_lst = sorted(random_lst, reverse=True)\n",
    "print(\"List in descending order\", desc_lst)\n"
   ]
  },
  {
   "cell_type": "code",
   "execution_count": 17,
   "id": "5e52537d",
   "metadata": {},
   "outputs": [
    {
     "name": "stdout",
     "output_type": "stream",
     "text": [
      "6\n"
     ]
    }
   ],
   "source": [
    "# Assignment Question 7\n",
    "\n",
    "matrix = [\n",
    "    [1,2,3],\n",
    "    [4,5,6],\n",
    "    [7,8,9],\n",
    "]\n",
    "\n",
    "print(matrix[1][2])"
   ]
  },
  {
   "cell_type": "code",
   "execution_count": 24,
   "id": "ea3bbd39",
   "metadata": {},
   "outputs": [
    {
     "data": {
      "text/plain": [
       "[{'name': 'Pulkit', 'score': 9.8},\n",
       " {'name': 'Chandransh', 'score': 8.8},\n",
       " {'name': 'Yuvraj', 'score': 8},\n",
       " {'name': 'Lavish', 'score': 6}]"
      ]
     },
     "execution_count": 24,
     "metadata": {},
     "output_type": "execute_result"
    }
   ],
   "source": [
    "# Assignment 8\n",
    "\n",
    "lst_of_dict = [\n",
    "    {\n",
    "        \"name\": \"Pulkit\",\n",
    "        \"score\": 9.8\n",
    "    },\n",
    "    {\n",
    "        \"name\": \"Chandransh\",\n",
    "        \"score\": 8.8\n",
    "    },\n",
    "    {\n",
    "        \"name\": \"Lavish\",\n",
    "        \"score\": 6\n",
    "    },\n",
    "    {\n",
    "        \"name\": \"Yuvraj\",\n",
    "        \"score\": 8\n",
    "    },\n",
    "]\n",
    "\n",
    "sorted_lst_of_dict = sorted(lst_of_dict, key=lambda x: x['score'], reverse=True)\n",
    "\n",
    "sorted_lst_of_dict"
   ]
  },
  {
   "cell_type": "code",
   "execution_count": 34,
   "id": "7e606554",
   "metadata": {},
   "outputs": [
    {
     "data": {
      "text/plain": [
       "[[1, 4, 7], [2, 5, 8], [3, 6, 9]]"
      ]
     },
     "execution_count": 34,
     "metadata": {},
     "output_type": "execute_result"
    }
   ],
   "source": [
    "# Assignment 9\n",
    "\n",
    "matrix = [\n",
    "    [1,2,3],\n",
    "    [4,5,6],\n",
    "    [7,8,9],\n",
    "]\n",
    "\n",
    "def transpose_matrix(matrix):\n",
    "    return [[matrix[i][j] for i in range(len(matrix[j]))] for j in range(len(matrix)) ]\n",
    "\n",
    "transposed_matrix = transpose_matrix(matrix)\n",
    "transposed_matrix"
   ]
  },
  {
   "cell_type": "code",
   "execution_count": 43,
   "id": "34bd6f1a",
   "metadata": {},
   "outputs": [
    {
     "data": {
      "text/plain": [
       "[1, 2, 3, 4, 5, 6, 7, 8, 9]"
      ]
     },
     "execution_count": 43,
     "metadata": {},
     "output_type": "execute_result"
    }
   ],
   "source": [
    "# Assignment 10\n",
    "\n",
    "matrix = [\n",
    "    [1,2,3],\n",
    "    [4,5,6],\n",
    "    [7,8,9],\n",
    "]\n",
    "\n",
    "def flatten_list(matrix):\n",
    "    return [item for row in matrix for item in row]\n",
    "\n",
    "flatten_list(matrix)"
   ]
  },
  {
   "cell_type": "code",
   "execution_count": 51,
   "id": "2b57e66b",
   "metadata": {},
   "outputs": [
    {
     "data": {
      "text/plain": [
       "[0, 1, 3, 5, 7, 99, 8, 9]"
      ]
     },
     "execution_count": 51,
     "metadata": {},
     "output_type": "execute_result"
    }
   ],
   "source": [
    "# Assignment 11\n",
    "\n",
    "lst = [x for x in range(10)]\n",
    "\n",
    "for index in [2,4,6]:\n",
    "    lst.remove(index)\n",
    "\n",
    "lst.insert(5,99)\n",
    "\n",
    "lst"
   ]
  },
  {
   "cell_type": "code",
   "execution_count": null,
   "id": "d669649b",
   "metadata": {},
   "outputs": [],
   "source": [
    "# Assignment 12\n",
    "\n",
    "lst1 = [1,2,3]\n",
    "lst2 = [4,5,6]\n",
    "\n",
    "list(tuple(zip(lst1, lst2)))"
   ]
  },
  {
   "cell_type": "code",
   "execution_count": 52,
   "id": "bf778c25",
   "metadata": {},
   "outputs": [
    {
     "name": "stdout",
     "output_type": "stream",
     "text": [
      "Original List: [0, 1, 2, 3, 4, 5, 6, 7, 8, 9]\n",
      "Reversed List:  [9, 8, 7, 6, 5, 4, 3, 2, 1, 0]\n"
     ]
    }
   ],
   "source": [
    "# Assignment 13\n",
    "\n",
    "lst = [x for x in range(10)]\n",
    "print(\"Original List:\" ,lst)\n",
    "\n",
    "def reverse_list(lst):\n",
    "    return sorted(lst, reverse=True)\n",
    "\n",
    "print(\"Reversed List: \", reverse_list(lst))"
   ]
  },
  {
   "cell_type": "code",
   "execution_count": 54,
   "id": "f3021391",
   "metadata": {},
   "outputs": [
    {
     "name": "stdout",
     "output_type": "stream",
     "text": [
      "[5, 6, 7, 8, 9, 0, 1, 2, 3, 4]\n"
     ]
    }
   ],
   "source": [
    "# Assignment 14\n",
    "\n",
    "lst = [x for x in range(10)]\n",
    "\n",
    "def rotate_list(lst,index):\n",
    "    return lst[index:] + lst[:index]\n",
    "    \n",
    "\n",
    "print(rotate_list(lst,5))"
   ]
  },
  {
   "cell_type": "code",
   "execution_count": 55,
   "id": "144fb605",
   "metadata": {},
   "outputs": [
    {
     "name": "stdout",
     "output_type": "stream",
     "text": [
      "[5, 6, 7, 8, 9]\n"
     ]
    }
   ],
   "source": [
    "# Assignment 15\n",
    "\n",
    "# Write a function that takes two lists and returns a new list containing only the elements that are present in both lists. Print the intersected list.\n",
    "\n",
    "lst1 = [x for x in range(5,15)]\n",
    "lst2 = [x for x in range(10)]\n",
    "\n",
    "def list_intersection(lst1, lst2):\n",
    "    set1 = set(lst1)\n",
    "    set2 = set(lst2)\n",
    "    return list(set1.intersection(set2))\n",
    "\n",
    "print(list_intersection(lst1,lst2))"
   ]
  },
  {
   "cell_type": "code",
   "execution_count": null,
   "id": "8d1750a2",
   "metadata": {},
   "outputs": [],
   "source": []
  },
  {
   "cell_type": "code",
   "execution_count": null,
   "id": "72f59ff6",
   "metadata": {},
   "outputs": [],
   "source": []
  },
  {
   "cell_type": "code",
   "execution_count": null,
   "id": "6a92a131",
   "metadata": {},
   "outputs": [],
   "source": []
  }
 ],
 "metadata": {
  "kernelspec": {
   "display_name": "Python 3",
   "language": "python",
   "name": "python3"
  },
  "language_info": {
   "codemirror_mode": {
    "name": "ipython",
    "version": 3
   },
   "file_extension": ".py",
   "mimetype": "text/x-python",
   "name": "python",
   "nbconvert_exporter": "python",
   "pygments_lexer": "ipython3",
   "version": "3.12.4"
  }
 },
 "nbformat": 4,
 "nbformat_minor": 5
}
